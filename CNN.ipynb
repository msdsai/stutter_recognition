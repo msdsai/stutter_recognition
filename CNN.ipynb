{
 "cells": [
  {
   "cell_type": "markdown",
   "id": "b96228e6-658a-440d-a7ea-e0ec3d025baf",
   "metadata": {},
   "source": [
    "<h1>Stutter recognition</h1>"
   ]
  },
  {
   "cell_type": "code",
   "execution_count": 1,
   "id": "9e3db3fa-6444-4245-b925-804b87836ec6",
   "metadata": {},
   "outputs": [],
   "source": [
    "#imports\n",
    "import os\n",
    "import cv2\n",
    "import numpy as np\n",
    "import librosa\n",
    "import librosa.display\n",
    "import matplotlib.pyplot as plt\n",
    "from scipy.ndimage import gaussian_filter1d\n",
    "from sklearn.model_selection import train_test_split\n",
    "from sklearn.metrics import classification_report, confusion_matrix, accuracy_score, ConfusionMatrixDisplay\n",
    "from tensorflow.keras.utils import to_categorical\n",
    "from tensorflow.keras.models import Sequential\n",
    "from tensorflow.keras.layers import Conv2D, MaxPooling2D, Flatten, Dense, Dropout"
   ]
  },
  {
   "cell_type": "code",
   "execution_count": 2,
   "id": "260c2936-6b93-4997-aaa8-2107734df0dc",
   "metadata": {},
   "outputs": [],
   "source": [
    "DATASET_PATH = './digits'  # Folder with fluent/ and stutter/\n",
    "SAMPLE_RATE = 16000\n",
    "N_MFCC = 12\n",
    "MAX_LEN = 160  # max frame length for MFCC"
   ]
  },
  {
   "cell_type": "markdown",
   "id": "e4886798-01a5-4368-9515-ad2c0b75ed11",
   "metadata": {},
   "source": [
    "<h2>Reading values from the audio files</h2>"
   ]
  },
  {
   "cell_type": "code",
   "execution_count": 3,
   "id": "d01de7f1-47c0-4d8a-abc0-904681b67248",
   "metadata": {},
   "outputs": [],
   "source": [
    "def read_txt_file(filepath):\n",
    "    with open(filepath, 'r') as f:\n",
    "        lines = f.readlines()\n",
    "\n",
    "    # Filter only lines that contain numbers\n",
    "    numeric_lines = []\n",
    "    for line in lines:\n",
    "        try:\n",
    "            float(line.strip())  # Try converting\n",
    "            numeric_lines.append(line.strip())\n",
    "        except ValueError:\n",
    "            continue  # Skip headers or non-numeric lines\n",
    "\n",
    "    return np.array([float(x) for x in numeric_lines])\n"
   ]
  },
  {
   "cell_type": "markdown",
   "id": "0d7f31ec-3274-4a0f-8e76-972b055e813f",
   "metadata": {},
   "source": [
    "<h2>Applying gaussian filter</h2>"
   ]
  },
  {
   "cell_type": "code",
   "execution_count": 4,
   "id": "37690d6f-c85c-4067-ba09-837994e47cae",
   "metadata": {},
   "outputs": [],
   "source": [
    "def apply_gaussian_filter(y):\n",
    "    return gaussian_filter1d(y, sigma=1)"
   ]
  },
  {
   "cell_type": "markdown",
   "id": "8fc63836-4217-4df8-ba35-9fef764019a9",
   "metadata": {},
   "source": [
    "<h2>MFCC Extraction</h2>"
   ]
  },
  {
   "cell_type": "code",
   "execution_count": 16,
   "id": "38e32bb6-cdb4-410a-87f2-a018896a3bd9",
   "metadata": {},
   "outputs": [],
   "source": [
    "def extract_mfcc(y, sr):\n",
    "    mfcc = librosa.feature.mfcc(y=y, sr=sr, n_mfcc=N_MFCC,n_fft=320,hop_length=80)\n",
    "    return mfcc"
   ]
  },
  {
   "cell_type": "code",
   "execution_count": 6,
   "id": "55035e37-8af2-4728-87fa-6d234b08e220",
   "metadata": {},
   "outputs": [],
   "source": [
    "def process_file(filepath):\n",
    "    y = read_txt_file(filepath)\n",
    "    y = librosa.util.fix_length(y, size=SAMPLE_RATE)  # trim or pad\n",
    "    y_gaussian = apply_gaussian_filter(y)\n",
    "    mfcc = extract_mfcc(y_gaussian, SAMPLE_RATE)\n",
    "    return mfcc"
   ]
  },
  {
   "cell_type": "markdown",
   "id": "3768ac40-ae55-4170-9a4b-4c7701d70373",
   "metadata": {},
   "source": [
    "<h3>Dataset structure</h3>"
   ]
  },
  {
   "cell_type": "markdown",
   "id": "18885284-cae6-4b40-81ee-dbfc9a876a9f",
   "metadata": {},
   "source": [
    "digits\n",
    " - fluent(10 recordings of each digit(0-9))\n",
    " - stutter\n",
    "   - prolong(5 recordings of each digit)\n",
    "   - repeat (5 recordings of each digit)"
   ]
  },
  {
   "cell_type": "markdown",
   "id": "f5d1de7b-1cd8-4c39-b977-6eefcb32e027",
   "metadata": {},
   "source": [
    "<h2>Dataset loading</h2>"
   ]
  },
  {
   "cell_type": "code",
   "execution_count": 7,
   "id": "b8aba1c7-a3ff-4e4d-b6af-92b450b70268",
   "metadata": {},
   "outputs": [],
   "source": [
    "def load_dataset():\n",
    "    X = []\n",
    "    y = []\n",
    "    filenames = []\n",
    "    labels = {'fluent': 0, 'prolong': 1, 'repeat': 2}\n",
    "\n",
    "    # Fluent\n",
    "    fluent_path = os.path.join(DATASET_PATH, 'fluent')\n",
    "    for file in os.listdir(fluent_path):\n",
    "        if file.endswith('.txt'):\n",
    "            mfcc = process_file(os.path.join(fluent_path, file))\n",
    "            X.append(mfcc)\n",
    "            y.append(labels['fluent'])\n",
    "            filenames.append(file)    \n",
    "\n",
    "    # Stutter - prolong\n",
    "    prolong_path = os.path.join(DATASET_PATH, 'stutter', 'prolong')\n",
    "    for file in os.listdir(prolong_path):\n",
    "        if file.endswith('.txt'):\n",
    "            mfcc = process_file(os.path.join(prolong_path, file))\n",
    "            X.append(mfcc)\n",
    "            y.append(labels['prolong'])\n",
    "            filenames.append(file)\n",
    "\n",
    "    # Stutter - repeations\n",
    "    repeations_path = os.path.join(DATASET_PATH, 'stutter', 'repeat')\n",
    "    for file in os.listdir(repeations_path):\n",
    "        if file.endswith('.txt'):\n",
    "            mfcc = process_file(os.path.join(repeations_path, file))\n",
    "            X.append(mfcc)\n",
    "            y.append(labels['repeat'])\n",
    "            filenames.append(file)\n",
    "\n",
    "    return np.array(X), np.array(y), np.array(filenames)"
   ]
  },
  {
   "cell_type": "code",
   "execution_count": 8,
   "id": "620826a0-139b-4887-b8fe-fc6a72a392ae",
   "metadata": {},
   "outputs": [],
   "source": [
    "X, y, filenames = load_dataset()"
   ]
  },
  {
   "cell_type": "markdown",
   "id": "97490ffd-f815-4db3-8f02-1bee92beac38",
   "metadata": {},
   "source": [
    "<h2>Spilting the data for train and testing</h2>"
   ]
  },
  {
   "cell_type": "code",
   "execution_count": 9,
   "id": "99987349-7579-48f6-8d70-58a496b71db9",
   "metadata": {},
   "outputs": [],
   "source": [
    "X_padded = np.array([np.pad(x, ((0,0), (0, MAX_LEN - x.shape[1])), mode='constant')[:, :MAX_LEN] for x in X])\n",
    "X_padded = X_padded[..., np.newaxis] \n",
    "y_cat = to_categorical(y, num_classes=3)\n",
    "X_train, X_test, y_train, y_test, filenames_train, filenames_test = train_test_split(X_padded, y_cat, filenames, test_size=0.2, random_state=42)"
   ]
  },
  {
   "cell_type": "markdown",
   "id": "78ab12a9-7661-441b-ae89-47f60c96d3b3",
   "metadata": {},
   "source": [
    "<h2>Building the CNN model</h2>"
   ]
  },
  {
   "cell_type": "code",
   "execution_count": 10,
   "id": "2ce2ad06-5a0f-47ad-83af-8c30a758eed5",
   "metadata": {},
   "outputs": [],
   "source": [
    "# --- Build CNN Model ---\n",
    "model = Sequential([\n",
    "    Conv2D(32, (3,3), activation='relu', input_shape=X_padded.shape[1:]),\n",
    "    MaxPooling2D((2,2)),\n",
    "    Dropout(0.3),\n",
    "    Conv2D(64, (3,3), activation='relu'),\n",
    "    MaxPooling2D((2,2)),\n",
    "    Dropout(0.3),\n",
    "    Flatten(),\n",
    "    Dense(128, activation='relu'),\n",
    "    Dropout(0.3),\n",
    "    Dense(3, activation='softmax')\n",
    "])"
   ]
  },
  {
   "cell_type": "code",
   "execution_count": 11,
   "id": "555ff80e-de6e-4ad1-b58a-aa7744f2573f",
   "metadata": {},
   "outputs": [
    {
     "name": "stdout",
     "output_type": "stream",
     "text": [
      "Model: \"sequential\"\n",
      "_________________________________________________________________\n",
      " Layer (type)                Output Shape              Param #   \n",
      "=================================================================\n",
      " conv2d (Conv2D)             (None, 10, 158, 32)       320       \n",
      "                                                                 \n",
      " max_pooling2d (MaxPooling2  (None, 5, 79, 32)         0         \n",
      " D)                                                              \n",
      "                                                                 \n",
      " dropout (Dropout)           (None, 5, 79, 32)         0         \n",
      "                                                                 \n",
      " conv2d_1 (Conv2D)           (None, 3, 77, 64)         18496     \n",
      "                                                                 \n",
      " max_pooling2d_1 (MaxPoolin  (None, 1, 38, 64)         0         \n",
      " g2D)                                                            \n",
      "                                                                 \n",
      " dropout_1 (Dropout)         (None, 1, 38, 64)         0         \n",
      "                                                                 \n",
      " flatten (Flatten)           (None, 2432)              0         \n",
      "                                                                 \n",
      " dense (Dense)               (None, 128)               311424    \n",
      "                                                                 \n",
      " dropout_2 (Dropout)         (None, 128)               0         \n",
      "                                                                 \n",
      " dense_1 (Dense)             (None, 3)                 387       \n",
      "                                                                 \n",
      "=================================================================\n",
      "Total params: 330627 (1.26 MB)\n",
      "Trainable params: 330627 (1.26 MB)\n",
      "Non-trainable params: 0 (0.00 Byte)\n",
      "_________________________________________________________________\n"
     ]
    }
   ],
   "source": [
    "model.compile(optimizer='adam', loss='categorical_crossentropy', metrics=['accuracy'])\n",
    "model.summary()"
   ]
  },
  {
   "cell_type": "markdown",
   "id": "94617d70-c53a-4c0c-bdbd-20182cf57998",
   "metadata": {},
   "source": [
    "<h2>Training the model</h2>"
   ]
  },
  {
   "cell_type": "code",
   "execution_count": 12,
   "id": "22c930e2-7d25-4c6b-967d-396b5f4ad8a8",
   "metadata": {},
   "outputs": [
    {
     "name": "stdout",
     "output_type": "stream",
     "text": [
      "Epoch 1/20\n",
      "5/5 [==============================] - 5s 241ms/step - loss: 17.9266 - accuracy: 0.4500 - val_loss: 1.0036 - val_accuracy: 0.6250\n",
      "Epoch 2/20\n",
      "5/5 [==============================] - 0s 98ms/step - loss: 10.2373 - accuracy: 0.4250 - val_loss: 1.2152 - val_accuracy: 0.6000\n",
      "Epoch 3/20\n",
      "5/5 [==============================] - 0s 98ms/step - loss: 5.5491 - accuracy: 0.5938 - val_loss: 1.8198 - val_accuracy: 0.7000\n",
      "Epoch 4/20\n",
      "5/5 [==============================] - 0s 103ms/step - loss: 3.2245 - accuracy: 0.6062 - val_loss: 0.6743 - val_accuracy: 0.7000\n",
      "Epoch 5/20\n",
      "5/5 [==============================] - 0s 98ms/step - loss: 2.0316 - accuracy: 0.5750 - val_loss: 0.6746 - val_accuracy: 0.6250\n",
      "Epoch 6/20\n",
      "5/5 [==============================] - 0s 99ms/step - loss: 1.3029 - accuracy: 0.6750 - val_loss: 0.4532 - val_accuracy: 0.8750\n",
      "Epoch 7/20\n",
      "5/5 [==============================] - 0s 97ms/step - loss: 0.9947 - accuracy: 0.6875 - val_loss: 0.3873 - val_accuracy: 0.9250\n",
      "Epoch 8/20\n",
      "5/5 [==============================] - 0s 99ms/step - loss: 0.7225 - accuracy: 0.7312 - val_loss: 0.4155 - val_accuracy: 0.9000\n",
      "Epoch 9/20\n",
      "5/5 [==============================] - 0s 97ms/step - loss: 0.6848 - accuracy: 0.7563 - val_loss: 0.3504 - val_accuracy: 0.9500\n",
      "Epoch 10/20\n",
      "5/5 [==============================] - 0s 98ms/step - loss: 0.5516 - accuracy: 0.8313 - val_loss: 0.2466 - val_accuracy: 0.9250\n",
      "Epoch 11/20\n",
      "5/5 [==============================] - 0s 98ms/step - loss: 0.5089 - accuracy: 0.7875 - val_loss: 0.1676 - val_accuracy: 1.0000\n",
      "Epoch 12/20\n",
      "5/5 [==============================] - 0s 98ms/step - loss: 0.3160 - accuracy: 0.8625 - val_loss: 0.1138 - val_accuracy: 1.0000\n",
      "Epoch 13/20\n",
      "5/5 [==============================] - 0s 99ms/step - loss: 0.2975 - accuracy: 0.9062 - val_loss: 0.1102 - val_accuracy: 0.9750\n",
      "Epoch 14/20\n",
      "5/5 [==============================] - 0s 97ms/step - loss: 0.2403 - accuracy: 0.9000 - val_loss: 0.1172 - val_accuracy: 0.9750\n",
      "Epoch 15/20\n",
      "5/5 [==============================] - 0s 98ms/step - loss: 0.2323 - accuracy: 0.9187 - val_loss: 0.1007 - val_accuracy: 0.9750\n",
      "Epoch 16/20\n",
      "5/5 [==============================] - 0s 102ms/step - loss: 0.2214 - accuracy: 0.9125 - val_loss: 0.0870 - val_accuracy: 0.9750\n",
      "Epoch 17/20\n",
      "5/5 [==============================] - 0s 88ms/step - loss: 0.1698 - accuracy: 0.9375 - val_loss: 0.0617 - val_accuracy: 0.9750\n",
      "Epoch 18/20\n",
      "5/5 [==============================] - 0s 91ms/step - loss: 0.1104 - accuracy: 0.9625 - val_loss: 0.0879 - val_accuracy: 0.9750\n",
      "Epoch 19/20\n",
      "5/5 [==============================] - 0s 92ms/step - loss: 0.0787 - accuracy: 0.9750 - val_loss: 0.1156 - val_accuracy: 0.9500\n",
      "Epoch 20/20\n",
      "5/5 [==============================] - 0s 88ms/step - loss: 0.1215 - accuracy: 0.9438 - val_loss: 0.0418 - val_accuracy: 0.9750\n"
     ]
    }
   ],
   "source": [
    "# --- Train ---\n",
    "history = model.fit(X_train, y_train, epochs=20, batch_size=32, validation_data=(X_test, y_test))"
   ]
  },
  {
   "cell_type": "markdown",
   "id": "69e73508-beb9-4ca9-89b6-81ddcd4fad81",
   "metadata": {},
   "source": [
    "<h2>Predictions for each test file </h2>"
   ]
  },
  {
   "cell_type": "code",
   "execution_count": 13,
   "id": "c56ce6f6-d5bd-42d1-a599-ebe5e5ecb7eb",
   "metadata": {
    "scrolled": true
   },
   "outputs": [
    {
     "name": "stdout",
     "output_type": "stream",
     "text": [
      "2/2 [==============================] - 0s 10ms/step\n",
      "Filename                       Actual       Predicted   \n",
      "============================================================\n",
      "210101063_E_9_5.txt            fluent       fluent      \n",
      "210101063_E_1_5.txt            fluent       fluent      \n",
      "210101063_E_3_1.txt            fluent       fluent      \n",
      "210101063_repeat_1_4.txt       repeations   repeations  \n",
      "210101063_prolong_5_4.txt      prolong      prolong     \n",
      "210101063_prolong_3_1.txt      prolong      prolong     \n",
      "210101063_E_6_9.txt            fluent       fluent      \n",
      "210101063_repeat_4_1.txt       repeations   repeations  \n",
      "210101063_repeat_4_5.txt       repeations   repeations  \n",
      "210101063_E_4_5.txt            fluent       fluent      \n",
      "210101063_E_6_6.txt            fluent       fluent      \n",
      "210101063_repeat_6_3.txt       repeations   repeations  \n",
      "210101063_repeat_3_1.txt       repeations   repeations  \n",
      "210101063_E_7_8.txt            fluent       fluent      \n",
      "210101063_repeat_7_2.txt       repeations   repeations  \n",
      "210101063_repeat_5_3.txt       repeations   repeations  \n",
      "210101063_E_5_6.txt            fluent       fluent      \n",
      "210101063_repeat_0_3.txt       repeations   repeations  \n",
      "210101063_E_8_2.txt            fluent       fluent      \n",
      "210101063_E_6_8.txt            fluent       fluent      \n",
      "210101063_prolong_4_5.txt      prolong      prolong     \n",
      "210101063_E_1_6.txt            fluent       fluent      \n",
      "210101063_prolong_9_4.txt      prolong      prolong     \n",
      "210101063_E_9_3.txt            fluent       fluent      \n",
      "210101063_E_6_5.txt            fluent       fluent      \n",
      "210101063_E_6_1.txt            fluent       repeations  \n",
      "210101063_E_8_4.txt            fluent       fluent      \n",
      "210101063_E_6_7.txt            fluent       fluent      \n",
      "210101063_prolong_5_1.txt      prolong      prolong     \n",
      "210101063_prolong_6_3.txt      prolong      prolong     \n",
      "210101063_E_0_9.txt            fluent       fluent      \n",
      "210101063_E_1_8.txt            fluent       fluent      \n",
      "210101063_E_5_5.txt            fluent       fluent      \n",
      "210101063_E_7_5.txt            fluent       fluent      \n",
      "210101063_repeat_0_1.txt       repeations   repeations  \n",
      "210101063_prolong_0_5.txt      prolong      prolong     \n",
      "210101063_prolong_7_1.txt      prolong      prolong     \n",
      "210101063_prolong_7_3.txt      prolong      prolong     \n",
      "210101063_repeat_2_5.txt       repeations   repeations  \n",
      "210101063_E_7_6.txt            fluent       fluent      \n"
     ]
    }
   ],
   "source": [
    "# Predict\n",
    "y_pred = model.predict(X_test)\n",
    "y_pred_labels = np.argmax(y_pred, axis=1)\n",
    "y_true_labels = np.argmax(y_test, axis=1)\n",
    "\n",
    "# Label mapping\n",
    "label_map = {0: 'fluent', 1: 'prolong', 2: 'repeations'}\n",
    "\n",
    "# Print comparison\n",
    "print(f\"{'Filename':<30} {'Actual':<12} {'Predicted':<12}\")\n",
    "print(\"=\"*60)\n",
    "for i in range(len(filenames_test)):\n",
    "    actual = label_map[y_true_labels[i]]\n",
    "    predicted = label_map[y_pred_labels[i]]\n",
    "    print(f\"{filenames_test[i]:<30} {actual:<12} {predicted:<12}\")"
   ]
  },
  {
   "cell_type": "markdown",
   "id": "da5b45b3-f20e-42d6-9e64-a24ec4103dfc",
   "metadata": {},
   "source": [
    "<h2>Classification Report</h2>"
   ]
  },
  {
   "cell_type": "code",
   "execution_count": 14,
   "id": "2e0986f1-45f9-4ac4-a8ac-7b00e85dd7f1",
   "metadata": {},
   "outputs": [
    {
     "name": "stdout",
     "output_type": "stream",
     "text": [
      "\n",
      "CNN Classification Report:\n",
      "              precision    recall  f1-score   support\n",
      "\n",
      "      fluent       1.00      0.95      0.98        21\n",
      "     prolong       1.00      1.00      1.00         9\n",
      "  repeations       0.91      1.00      0.95        10\n",
      "\n",
      "    accuracy                           0.97        40\n",
      "   macro avg       0.97      0.98      0.98        40\n",
      "weighted avg       0.98      0.97      0.98        40\n",
      "\n"
     ]
    }
   ],
   "source": [
    "label_names = ['fluent', 'prolong', 'repeations']\n",
    "print(\"\\nCNN Classification Report:\")\n",
    "print(classification_report(y_true_labels, y_pred_labels, target_names=label_names))"
   ]
  },
  {
   "cell_type": "markdown",
   "id": "aaee0663-4638-4411-8709-11dc89bda1bc",
   "metadata": {},
   "source": [
    "<h2>Confussion Matrix</h2>"
   ]
  },
  {
   "cell_type": "code",
   "execution_count": 15,
   "id": "62446732-9adc-408d-87c1-327791fd3a49",
   "metadata": {},
   "outputs": [
    {
     "data": {
      "image/png": "[encoded data removed]",
      "text/plain": [
       "<Figure size 640x480 with 2 Axes>"
      ]
     },
     "metadata": {},
     "output_type": "display_data"
    }
   ],
   "source": [
    "labels = ['fluent', 'prolong', 'repeations']\n",
    "cm = confusion_matrix(y_true_labels, y_pred_labels)\n",
    "\n",
    "disp = ConfusionMatrixDisplay(confusion_matrix=cm, display_labels=labels)\n",
    "disp.plot(cmap='Blues', values_format='d')\n",
    "plt.title('Confusion Matrix - CNN')\n",
    "plt.show()"
   ]
  },
  {
   "cell_type": "code",
   "execution_count": null,
   "id": "83cdfa03-4bdc-41a3-b302-625f02e1f1c4",
   "metadata": {},
   "outputs": [],
   "source": []
  }
 ],
 "metadata": {
  "kernelspec": {
   "display_name": "Python 3 (ipykernel)",
   "language": "python",
   "name": "python3"
  },
  "language_info": {
   "codemirror_mode": {
    "name": "ipython",
    "version": 3
   },
   "file_extension": ".py",
   "mimetype": "text/x-python",
   "name": "python",
   "nbconvert_exporter": "python",
   "pygments_lexer": "ipython3",
   "version": "3.11.3"
  }
 },
 "nbformat": 4,
 "nbformat_minor": 5
}
